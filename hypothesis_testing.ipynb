{
 "cells": [
  {
   "cell_type": "code",
   "execution_count": 15,
   "id": "93c86fda-cd06-48fe-bc3f-22fdeea4f709",
   "metadata": {},
   "outputs": [],
   "source": [
    "import numpy as np\n",
    "import matplotlib.pyplot as plt\n",
    "import pandas as pd\n",
    "import seaborn as sns\n",
    "\n",
    "from numpy.random import normal"
   ]
  },
  {
   "cell_type": "markdown",
   "id": "e799f195-061e-4e93-89e0-eb3e53f001bf",
   "metadata": {},
   "source": [
    "## Intro to Hypothesis Testing"
   ]
  },
  {
   "cell_type": "markdown",
   "id": "99ecd792-9b1d-4179-a2a3-cd525f25e1a3",
   "metadata": {},
   "source": [
    "### z-test"
   ]
  },
  {
   "cell_type": "markdown",
   "id": "fd0b5275-3f08-48fa-8e6c-c7801fd742d6",
   "metadata": {},
   "source": [
    "We first generate two samples from different gaussian distributions. $X_1 \\sim N(0, 1)$ and $X_2 \\sim N(0, 2)$"
   ]
  },
  {
   "cell_type": "code",
   "execution_count": 16,
   "id": "b094a9b4-560c-4259-ba5f-9e2db2363e9f",
   "metadata": {},
   "outputs": [],
   "source": [
    "X = normal(0, 1, size=100)\n",
    "Y = normal(2, 1, size=100)"
   ]
  },
  {
   "cell_type": "code",
   "execution_count": 17,
   "id": "a3a70c4e-6562-41dd-aef2-2c6c9cf4fee4",
   "metadata": {},
   "outputs": [],
   "source": [
    "df = pd.DataFrame()\n",
    "df['X1'] = X\n",
    "df['X2'] = Y"
   ]
  },
  {
   "cell_type": "code",
   "execution_count": 21,
   "id": "afae1999-9e81-48b6-824d-9c923fa5679f",
   "metadata": {},
   "outputs": [
    {
     "data": {
      "text/plain": [
       "<AxesSubplot:>"
      ]
     },
     "execution_count": 21,
     "metadata": {},
     "output_type": "execute_result"
    },
    {
     "data": {
      "image/png": "[encoded data removed]",
      "text/plain": [
       "<Figure size 640x480 with 1 Axes>"
      ]
     },
     "metadata": {},
     "output_type": "display_data"
    }
   ],
   "source": [
    "fig, ax = plt.subplots()\n",
    "\n",
    "ax.spines[['right', 'top', 'bottom']].set_visible(False)\n",
    "\n",
    "sns.stripplot(\n",
    "    data=df,\n",
    "    ax=ax\n",
    ")"
   ]
  },
  {
   "cell_type": "markdown",
   "id": "1f256ade-fde8-4579-bed8-d062c3780c65",
   "metadata": {},
   "source": [
    "Clearly, from the plot they have different means and possibly different variance. But how do we know that for sure? This is where we can use hypothesis testing. Assume you know that each of the random variables $X_1, X_2$ come from a Normal Distribution, we can ask if the means are signficantly different, in other words:\n",
    "\n",
    "$$H_0: \\bar{X_1} - \\bar{X_2} = 0$$\n",
    "$$H_1: \\bar{X_1} - \\bar{X_2} \\neq 0$$"
   ]
  },
  {
   "cell_type": "markdown",
   "id": "8e7b752d-86da-47e2-94a3-732234b6b200",
   "metadata": {},
   "source": [
    "We therefore can compute a z-score between the two means:\n",
    "$$z = \\frac{\\bar{X_1} - \\bar{X_2}}{\\sqrt{\\sigma_1^2 / n_1 + \\sigma_2^2 / n_2}}$$\n",
    "\n",
    "and compare the z-score with the standard normal via a table, assuming you use a $\\alpha=0.05$, we can reject the null hypothesis if $|z| > 1.96$\n",
    "\n",
    "If we know the population variance $\\sigma_1^2, \\sigma_2^2$, then we can plug them into the formula and use the z-test, if not we will use the t-test (covered in the next section).\n",
    "\n",
    "Plugging everything in:"
   ]
  },
  {
   "cell_type": "code",
   "execution_count": 25,
   "id": "0703126d-43c0-4df0-9676-49b430ae82db",
   "metadata": {},
   "outputs": [],
   "source": [
    "s1 = 1\n",
    "s2 = 1\n",
    "n1 = 100\n",
    "n2 = 100\n",
    "\n",
    "mean1 = np.mean(X)\n",
    "mean2 = np.mean(Y)"
   ]
  },
  {
   "cell_type": "code",
   "execution_count": 26,
   "id": "3c9ff480-2035-4a86-8410-22ed85b790f7",
   "metadata": {},
   "outputs": [],
   "source": [
    "z = (mean1 - mean2) / np.sqrt(s1**2 / n1 + s2**2 / n2)"
   ]
  },
  {
   "cell_type": "code",
   "execution_count": 27,
   "id": "e75854e5-317a-4513-8eef-cee9ce7bd0f9",
   "metadata": {},
   "outputs": [
    {
     "data": {
      "text/plain": [
       "-14.67725697819161"
      ]
     },
     "execution_count": 27,
     "metadata": {},
     "output_type": "execute_result"
    }
   ],
   "source": [
    "z"
   ]
  },
  {
   "cell_type": "markdown",
   "id": "bf6cea80-ab1b-46ae-b65c-6a29cc5be45a",
   "metadata": {},
   "source": [
    "Conclusion: Since z is much less than -1.96, we conclude the two datasets have different means"
   ]
  },
  {
   "cell_type": "markdown",
   "id": "04e77815-55c9-4325-ac85-d42e2e8cf671",
   "metadata": {},
   "source": [
    "This type of analysis is useful only when we know the population variance. However, the more useful test is when we don't know the population variance"
   ]
  },
  {
   "cell_type": "markdown",
   "id": "0c61fad7-2cab-4260-9f2f-b21910009a37",
   "metadata": {},
   "source": [
    "### Unpaired two-sample t-test"
   ]
  },
  {
   "cell_type": "markdown",
   "id": "86321bf6-8829-4b9a-a8da-da7acc26011b",
   "metadata": {},
   "source": [
    "First, let's clear up some confusing terminology and breakdown what ''unpaired two-sample t-test\" means.\n",
    "\n",
    "``unpaired\": the two samples that we are comparing are not the same group of participants. In a typical drug trial, you would give each participant a unique ID and track their vitals/bio data through the trial. You can clearly identify the individual's data before and after administering the drug. That would be a paired dataset\n",
    "\n",
    "``two-sample\": there are two data sets (or two samples) that we are comparing the means\n",
    "\n",
    "``t-test\": the hypothesis test we run when we want to compare the means if we don't know the population variance (we will use sample standard deviation as a proxy)"
   ]
  },
  {
   "cell_type": "markdown",
   "id": "1ff9275e-f285-4b79-be65-cd5834e5565b",
   "metadata": {},
   "source": [
    "Let's try to plug in the numbers and estimate $\\hat{\\sigma_1^2}, \\hat{\\sigma_2^2}$"
   ]
  },
  {
   "cell_type": "code",
   "execution_count": 31,
   "id": "345c9d8b-ca0e-4e35-9731-ee17de81d7d6",
   "metadata": {},
   "outputs": [],
   "source": [
    "s1_hat = np.std(X)\n",
    "s2_hat = np.std(Y)"
   ]
  },
  {
   "cell_type": "code",
   "execution_count": 35,
   "id": "ec2bc797-9f96-4aeb-ac45-0e70aedff870",
   "metadata": {},
   "outputs": [],
   "source": [
    "t = (mean1 - mean2) / np.sqrt(s1_hat**2 / n1 + s2_hat**2 / n2)"
   ]
  },
  {
   "cell_type": "code",
   "execution_count": 36,
   "id": "602ff6f2-69e7-49b1-9057-6471440552af",
   "metadata": {},
   "outputs": [
    {
     "data": {
      "text/plain": [
       "-14.105596171758744"
      ]
     },
     "execution_count": 36,
     "metadata": {},
     "output_type": "execute_result"
    }
   ],
   "source": [
    "t"
   ]
  },
  {
   "cell_type": "markdown",
   "id": "0bb36c88-f290-4dda-a73b-3a181346d075",
   "metadata": {},
   "source": [
    "Notice that the t-score is different than the z-score since we do not assume gaussian distribution in the dataset here. We then have to compare this t-score with the t distribution. But which table should we use? We also need the degrees of freedom (D.F.), defined as $n-1$, $n$ being the number of datapoints in the sample. With python, one can compare independent samples with the following command:"
   ]
  },
  {
   "cell_type": "code",
   "execution_count": 38,
   "id": "686eb9f2-a683-4f9e-a417-ee33cdfe47d8",
   "metadata": {},
   "outputs": [],
   "source": [
    "from scipy.stats import ttest_ind"
   ]
  },
  {
   "cell_type": "code",
   "execution_count": 39,
   "id": "008a5a6e-fd31-413d-92ab-183f383e0a5a",
   "metadata": {},
   "outputs": [
    {
     "data": {
      "text/plain": [
       "Ttest_indResult(statistic=-14.034890983799185, pvalue=1.6259174571942023e-31)"
      ]
     },
     "execution_count": 39,
     "metadata": {},
     "output_type": "execute_result"
    }
   ],
   "source": [
    "ttest_ind(X, Y)"
   ]
  },
  {
   "cell_type": "markdown",
   "id": "63d651f9-3bfb-4aed-b321-790f777b80d3",
   "metadata": {},
   "source": []
  }
 ],
 "metadata": {
  "kernelspec": {
   "display_name": "lab",
   "language": "python",
   "name": "lab"
  },
  "language_info": {
   "codemirror_mode": {
    "name": "ipython",
    "version": 3
   },
   "file_extension": ".py",
   "mimetype": "text/x-python",
   "name": "python",
   "nbconvert_exporter": "python",
   "pygments_lexer": "ipython3",
   "version": "3.7.13"
  }
 },
 "nbformat": 4,
 "nbformat_minor": 5
}
