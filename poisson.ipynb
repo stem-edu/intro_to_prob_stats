{
 "cells": [
  {
   "cell_type": "markdown",
   "id": "d496e47e-e7bc-48e0-8cf0-4dd58eee9dd9",
   "metadata": {},
   "source": [
    "## Poisson process"
   ]
  },
  {
   "cell_type": "markdown",
   "id": "63abb8f9-4d12-41a3-897a-5dab4f96ea56",
   "metadata": {},
   "source": [
    "We covered the **Poisson Distribution** before and as a review, the distribution of the number of arrivals during a fixed time interval $t$ is:\n",
    "> $$P(n) = \\frac{e^{-\\lambda}\\lambda^n}{n!}$$\n",
    "$$E[X] = \\lambda$$\n",
    "$$Var[X] = \\lambda$$\n",
    "\n",
    "Additionally, important properties of the Poisson random variable is that a sum of independent Poisson is a Poisson:\n",
    "$$X_1 + X_2 + \\dots + X_n \\sim \\textbf{Poisson}(\\lambda_1 + \\lambda_2 + \\dots + \\lambda_n)$$\n",
    "\n",
    "Now, let's understand what a **Poisson Process** is:\n",
    "\n",
    "Let $N(t)$ be the number of arrivals as a function of time $t$:\n",
    "then, N(t) is a Poisson if:\n",
    "- $N(0)=0$\n",
    "- $N(t)$ has independent increments, meaning the number of arrivals distributed between $[t_1, t_2]$ are independent from the number of arrivals distributed between $[t_2, t_3]$\n",
    "- $N(t)\\sim \\textbf{Poisson}(\\lambda t)$\n",
    "\n",
    "\n",
    "Additionally, an important point is that the waiting time *between* arrivals are distributed as **Exponential** with mean rate of $\\lambda$\n",
    "\n",
    "Since the exponential distribution is memoryless, meaning that waiting for the process for 5 mins does not reduce the amount of expected wait time. (This is very counter-intuitive since waiting for the bus is not an exponential distribution)\n",
    "\n",
    "\n",
    "Now I claim that:\n",
    "> The $n$th arrival time, $T_n$, is distributed as a Gamma Distribution of $T_n \\sim \\Gamma(n, \\lambda)$\n",
    "\n",
    "This basically follows our definition of the Exponential Distribution $T_1 \\sim \\textbf{Exp}(\\lambda) = \\Gamma(1, \\lambda)$, if $T_2$ the wait time until second arrival is a sum of 2 indepedent exponential random variable, then the $n$th arrival time is the sum of $n$ independent exponential random variable\n",
    "\n",
    "Let's try to simulate a Poisson Process, how do we do this? We need to draw the exponential waiting times from a distribution, assuming $\\lambda=0.1$"
   ]
  },
  {
   "cell_type": "code",
   "execution_count": 1,
   "id": "690083f0-9179-491d-a440-104b3e8d1906",
   "metadata": {},
   "outputs": [],
   "source": [
    "import numpy as np\n",
    "import matplotlib.pyplot as plt\n",
    "\n",
    "from numpy.random import exponential"
   ]
  },
  {
   "cell_type": "code",
   "execution_count": 10,
   "id": "e07e088d-60ca-4d63-b032-f500995f58fd",
   "metadata": {},
   "outputs": [],
   "source": [
    "E = exponential(0.1, 100)"
   ]
  },
  {
   "cell_type": "code",
   "execution_count": 11,
   "id": "7c6e2230-7c74-42d5-af23-06c8c13d1df8",
   "metadata": {},
   "outputs": [],
   "source": [
    "T = E.cumsum()"
   ]
  },
  {
   "cell_type": "code",
   "execution_count": 12,
   "id": "8dcf5522-2f10-452e-a2e3-a9bda8573a8a",
   "metadata": {},
   "outputs": [],
   "source": [
    "arrivals = np.ones(T.shape)"
   ]
  },
  {
   "cell_type": "code",
   "execution_count": 19,
   "id": "ad9a9d22-c480-4a72-9632-7f234050d7ad",
   "metadata": {},
   "outputs": [
    {
     "data": {
      "text/plain": [
       "<matplotlib.collections.PathCollection at 0x7fa97d0ca350>"
      ]
     },
     "execution_count": 19,
     "metadata": {},
     "output_type": "execute_result"
    },
    {
     "data": {
      "image/png": "[encoded data removed]",
      "text/plain": [
       "<Figure size 640x480 with 1 Axes>"
      ]
     },
     "metadata": {},
     "output_type": "display_data"
    }
   ],
   "source": [
    "plt.scatter(T, arrivals, s=0.7)"
   ]
  },
  {
   "cell_type": "code",
   "execution_count": null,
   "id": "6e9e127c-7c30-4295-b5f5-96de59ed7b3b",
   "metadata": {},
   "outputs": [],
   "source": []
  }
 ],
 "metadata": {
  "kernelspec": {
   "display_name": "lab",
   "language": "python",
   "name": "lab"
  },
  "language_info": {
   "codemirror_mode": {
    "name": "ipython",
    "version": 3
   },
   "file_extension": ".py",
   "mimetype": "text/x-python",
   "name": "python",
   "nbconvert_exporter": "python",
   "pygments_lexer": "ipython3",
   "version": "3.7.13"
  }
 },
 "nbformat": 4,
 "nbformat_minor": 5
}
