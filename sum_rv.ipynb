{
 "cells": [
  {
   "cell_type": "markdown",
   "id": "d4016a7b-47fc-40da-80a7-31457b0aab59",
   "metadata": {},
   "source": [
    "## Distribution of sum of independent random variable"
   ]
  },
  {
   "cell_type": "markdown",
   "id": "0263b9c7-8aae-4662-b3a7-a6393f882e60",
   "metadata": {},
   "source": [
    "### Discrete Random Variable"
   ]
  },
  {
   "cell_type": "markdown",
   "id": "4cb76bba-d497-4a7a-84b1-2bb8b29b054c",
   "metadata": {},
   "source": [
    "Sometimes, we are interested in the **distribution** of the sum of two or more independent, identically distributed random variales (iid). We will start with a simple illustrative example.\n",
    "\n",
    "<ins>Example 1: sum of 2 dice rolls</ins>\n",
    "\n",
    "Assume we have 2 fair six-sided dice, labelled 1 through 6. $X_1, X_2 \\sim \\textbf{Discrete Uniform(6)}$. First, let's say we are interested in figuring out the probability of rolling:\n",
    "- a 7 or an 11\n",
    "- 2,3, or 12\n",
    "\n",
    "For those who are degenerate gamblers, you might recognize these are the rolls of interest in the game of craps.\n",
    "\n",
    "Hence, we are interested in the:\n",
    "$$P(X_1 + X_2 = 7 \\text{ or } 11)$$\n",
    "$$P(X_1 + X_2 = 2, 3 \\text{ or } 12)$$\n",
    "\n",
    "Since rolling a 7 is mutually exclusive from rolling an 11. \n",
    "$$P(X_1 + X_2 = 7 \\text{ or } 11) = P(X_1 + X_2 = 2) + P(X_1 + X_2 = 11)$$\n",
    "\n",
    "We will now iteratively list and count carefully the number of ways of rolling each sum from 2 to 12, shown in the table below:\n",
    "\n",
    "Sum | 2 | 3 | 4 | 5 | 6 | 7 | 8 | 9 | 10 | 11 | 12 | \n",
    "--- | - | - | - | - | - | - | - | - | -- | -- | -- |\n",
    "Ways| 1 | 2 | 3 | 4 | 5 | 6 | 5 | 4 | 3  | 2  | 1  |\n",
    "\n",
    "Total possible outcomes for two dice is 6 x 6, since die 1 can take on any number from 1 to 6 with equal probability. Same with die 2. Hence 36 total outcomes.\n",
    "\n",
    "Therefore the probability of rolling 7 or 11 is $$p = \\frac{8}{36}$$ and the probability of rolling 2, 3, or 12 is $$p=\\frac{4}{36}$$\n",
    "\n",
    "What if we wanted to figure out the probability mass density and probability distribution of the sum of two dice, in other words:\n",
    "$$P(X_1 + X_2 = n) = ?$$\n",
    "or \n",
    "$$P(X_1 + X_2 \\leq n) = ?$$\n",
    "\n",
    "$$P(X_1 + X_2 = n) = \\sum_{X_2}P(X_1 = n - X_2 | X_2) P(X_2)$$\n",
    "\n",
    "Note that n is all natural number from 2 to 12 inclusive and the sum goes through all possible values of $X_2$ from 1 to 6, so we can list out the sum explicitly.\n",
    "\n",
    "$$P(X_1 + X_2 = n) = P(X_1 = n - 1 | 1)P(1) + P(X_1 = n-2|2)P(2) + \\dots + P(X_1=n-6|6)P(6)$$\n",
    "\n",
    "A few things to note, \n",
    "- the condition on die 2 doesn't affect die 1\n",
    "- the probability of rolling 1 through 6 for die 2 are all $\\frac{1}{6}$\n",
    "\n",
    "Hence, the expression simplifies a bit more:\n",
    "$$P(X_1 + X_2 = n) = \\frac{1}{6}[P(X_1 = n - 1) + P(X_1 = n-2) + \\dots + P(X_1=n-6)]$$\n",
    "\n",
    "If we try to plug in different numbers for $n$, we see that some of these terms are 0 (e.g. n=2, only the first term survives; n=3, only the first 2 terms survive)\n",
    "\n",
    "\n",
    "Let's try to do this problem slightly differently now, with concepts we learned before about continuous random variable's CDF.\n",
    "\n",
    "$$P(X_1 + X_2 \\leq n) = \\sum_{X_2}P(X_1 \\leq n - X_2 | X_2)P(X_2)$$\n",
    "\n",
    "$$P(X_1 + X_2 \\leq n) = \\frac{1}{6} \\left[\\frac{\\min{(\\max{(n-1, 0)}, 6)}}{6} + \\frac{\\min{(\\max{(n-2, 0)}, 6)}}{6} + \\dots \\frac{\\min{(\\max{(n-6, 0)}, 6)}}{6}\\right]$$\n",
    "\n",
    "\n",
    "It follows that the CDF of a single die:\n",
    "\n",
    "$$P(X_1 \\leq n) = \\frac{\\min{(\\max{(n, 0)}, 6)}}{6}$$"
   ]
  },
  {
   "cell_type": "code",
   "execution_count": 5,
   "id": "c1a99d08-e999-4cf1-842f-aacf2f4fa88f",
   "metadata": {},
   "outputs": [],
   "source": [
    "def cdf_sum_two_dice(n):\n",
    "    s = 0\n",
    "    for i in range(1, 7):\n",
    "        s += 1 / 36 * min(max(n - i, 0), 6)\n",
    "    return s"
   ]
  },
  {
   "cell_type": "code",
   "execution_count": 14,
   "id": "fcefabf8-7983-46e6-a971-45cb685ec3b5",
   "metadata": {},
   "outputs": [],
   "source": [
    "roll = [i for i in range(2, 13)]\n",
    "cdf = [cdf_sum_two_dice(i) for i in range(2, 13)]"
   ]
  },
  {
   "cell_type": "code",
   "execution_count": 15,
   "id": "cc3834d4-2220-4610-b402-db1c379fa654",
   "metadata": {},
   "outputs": [],
   "source": [
    "import matplotlib.pyplot as plt"
   ]
  },
  {
   "cell_type": "code",
   "execution_count": 16,
   "id": "b4da8781-634d-45b2-b594-2749485451aa",
   "metadata": {},
   "outputs": [
    {
     "data": {
      "text/plain": [
       "<BarContainer object of 11 artists>"
      ]
     },
     "execution_count": 16,
     "metadata": {},
     "output_type": "execute_result"
    },
    {
     "data": {
      "image/png": "[encoded data removed]",
      "text/plain": [
       "<Figure size 640x480 with 1 Axes>"
      ]
     },
     "metadata": {},
     "output_type": "display_data"
    }
   ],
   "source": [
    "plt.bar(roll, cdf)"
   ]
  },
  {
   "cell_type": "markdown",
   "id": "7b1326c0-ed37-4b7a-885b-b7969b5ddb45",
   "metadata": {},
   "source": [
    "### Detour: Probability of min and max of two dice rolls"
   ]
  },
  {
   "cell_type": "markdown",
   "id": "0c04c5c2-a0ef-41e2-86c1-b002c496b03a",
   "metadata": {},
   "source": [
    "<ins>Example 2: Probability min of 2 dice</ins>\n",
    "$$P(\\min{(X_1, X_2)} = n)$$\n",
    "The easiest way to think of a closed-form solution is to imagine n=1, what is the probability that the minimum of two dice is 1? That means one die is 1 and the other die is 1 or greater.\n",
    "Assume die 1 is 1 and die 2 can be whatever. The probability of this outcome is $$P(X_1 = 1 \\text{ and } X_2 = \\text{ any }) = \\frac{1}{6} \\cdot 1$$\n",
    "Same thing for die 1 being whatever and die 2 being 1. The probability is $$P(X_2 = 1 \\text{ and } X_1 = \\text{ any }) = \\frac{1}{6} \\cdot 1$$\n",
    "Add those and subtract the overcounted case of die 1 = 1 and die 2 = 1, $$P(X_1 = 1, X_2 = 1) = \\frac{1}{36}$$\n",
    "Hence, \n",
    "$$P(\\min{(X_1, X_2)} = 1) = 2 \\cdot \\frac{1}{6} - \\frac{1}{36}$$\n",
    "\n",
    "Is there any easier way to visualize this? \n",
    "\n",
    "|2 \\ 1 | 1 | 2 | 3 | 4 | 5 | 6 |\n",
    "|------| - | - | - | - | - | - |\n",
    "|    1 | x | x | x | x | x | x | \n",
    "|    2 | x |   |   |   |   |   | \n",
    "|    3 | x |   |   |   |   |   |  \n",
    "|    4 | x |   |   |   |   |   |\n",
    "|    5 | x |   |   |   |   |   |\n",
    "|    6 | x |   |   |   |   |   |\n",
    "    \n",
    "\n",
    "<ins>Example 3: Probability max of 2 dice</ins>\n",
    "$$P(\\max{(X_1, X_2)} = n)$$\n",
    "\n",
    "Similarly, to calculate this quantity, we can see if $n=6$, \n",
    "\n",
    "|2 \\ 1 | 1 | 2 | 3 | 4 | 5 | 6 |\n",
    "|------| - | - | - | - | - | - |\n",
    "|    1 |   |   |   |   |   | x |\n",
    "|    2 |   |   |   |   |   | x |\n",
    "|    3 |   |   |   |   |   | x |\n",
    "|    4 |   |   |   |   |   | x |\n",
    "|    5 |   |   |   |   |   | x |\n",
    "|    6 | x | x | x | x | x | x |\n",
    "\n",
    "The result is the same answer as Example 3, $p=\\frac{11}{36}$"
   ]
  },
  {
   "cell_type": "markdown",
   "id": "92e4f1d6-9dd4-4d06-be9e-abf3ab5ff9f8",
   "metadata": {},
   "source": [
    "### Continuous Random Variable"
   ]
  },
  {
   "cell_type": "markdown",
   "id": "4653c0a7-5edc-45c3-bc88-9a6305af77cd",
   "metadata": {},
   "source": [
    "The first step of getting a density is to figure out a distribution of the sum.\n",
    "\n",
    "$$P(X_1 + X_2 \\leq x) = F_{X_1 + X_2}(x)$$\n",
    "$$f_{X_1+X_2}(x) = \\frac{dF_{X_1 + X_2}(x)}{dx}$$\n",
    "\n",
    "<ins>Example 4: Uniform Distribution</ins>\n",
    "\n",
    "Let's investigate a simple problem, assume $X_1, X_2 \\sim U[0, 1]$, what are the density and distribution of the sum? Clearly, if $X_1, X_1$ has a max of 1 and min of 0, the range of the sum is between 0 and 2.\n",
    "$$P(X_1 + X_2 \\leq x)$$\n",
    "\n",
    "We are interested in the region in the unit square that is below the line $X_2 \\leq x - X_1, x \\in [0, 2], X_1 \\in [0, 1], X_2 \\in [0, 1]$\n",
    "\n",
    "Therefore, $$P(X_1 + X_2 \\leq x) = 1 - \\frac{(2 - x)^2}{2}, x \\in [0, 2]$$"
   ]
  }
 ],
 "metadata": {
  "kernelspec": {
   "display_name": "lab",
   "language": "python",
   "name": "lab"
  },
  "language_info": {
   "codemirror_mode": {
    "name": "ipython",
    "version": 3
   },
   "file_extension": ".py",
   "mimetype": "text/x-python",
   "name": "python",
   "nbconvert_exporter": "python",
   "pygments_lexer": "ipython3",
   "version": "3.7.13"
  }
 },
 "nbformat": 4,
 "nbformat_minor": 5
}
