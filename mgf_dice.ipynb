{
 "cells": [
  {
   "cell_type": "markdown",
   "id": "35c69237-f470-4bd0-8943-17e1725ea33d",
   "metadata": {},
   "source": [
    "## Moment Generating Function and Dice Rolls"
   ]
  },
  {
   "cell_type": "markdown",
   "id": "4e059f7f-ba35-4c1f-b67b-91a2670066a0",
   "metadata": {},
   "source": [
    "According to this [paper](https://digitalscholarship.unlv.edu/cgi/viewcontent.cgi?article=1025&context=grrj), we can use the **Moment Generating Function** to calculate probability of discrete outcomes without using discrete convolution. Previously, we attempted to calculate a CDF and PMF of the sum of two fair dice. Let's go over properties of an MGF.\n",
    "\n",
    "> Moment Generating Function (MGF):\n",
    "$$m(t)=E[e^{tX}]$$\n",
    "\n",
    "It must satisfy the following properties:\n",
    "- $m(0) = 1$\n",
    "- $E[X] = \\frac{dm}{dt}|_{t=0}$\n",
    "- $E[X^2] = \\frac{d^2 m}{dt^2}|_{t=0}$\n",
    "\n",
    "More generally:\n",
    "$$E[X^k] = \\frac{d^k m(t)}{dt^k}|_{t=0}$$\n",
    "\n",
    "We can therefore write down the MGF of a fair 6-sided die:\n",
    "$$m(t) = \\frac{1}{6} \\left[ e^t + e^{2t} + e^{3t} + e^{4t} + e^{5t} + e^{6t}\\right]$$\n",
    "\n",
    "<ins>Example 1: MGF of 2 fair fice</ins>\n",
    "\n",
    "To get the MGF of the sum of 2 fair dice:\n",
    "$$m(t)^2 = \\left( \\frac{1}{6} \\right)^2 \\left[ e^t + e^{2t} + e^{3t} + e^{4t} + e^{5t} + e^{6t}\\right]^2$$\n",
    "\n",
    "Expanding the MGF, we get the following answer:\n",
    "$$m^2 = \\frac{1}{36}\\left [e^{2 t} + 2 e^{3 t} + 3 e^{4 t} + 4 e^{5 t} + 5 e^{6 t} + 6 e^{7 t} + 5 e^{8 t} + 4 e^{9 t} + 3 e^{10 t} + 2 e^{11 t} + e^{12 t} \\right]$$\n",
    "\n",
    "and we can read off the coefficients in front of the corresponding term for the value of the sum of the two dice roll.\n",
    "\n",
    "<ins>Example 2: Coins</ins>\n",
    "\n",
    "Can we replicate the binomial distribution with an MGF?\n",
    "\n",
    "$$m(t) = \\frac{1}{2}(1 + e^t)$$\n",
    "What about 2 fair coins? What is the expected number of $H$?\n",
    "$$m^2(t) = \\frac{1}{4} (1 + 2e^t + e^{2t})$$\n",
    "\n",
    "The binomial coefficients fall out of this method naturally due to the binomial expansion coefficients for two term polynomials of the type:\n",
    "$$(a+b)^n = \\sum_{i}^n \\binom{n}{i} a^{n-i} b^i$$"
   ]
  }
 ],
 "metadata": {
  "kernelspec": {
   "display_name": "lab",
   "language": "python",
   "name": "lab"
  },
  "language_info": {
   "codemirror_mode": {
    "name": "ipython",
    "version": 3
   },
   "file_extension": ".py",
   "mimetype": "text/x-python",
   "name": "python",
   "nbconvert_exporter": "python",
   "pygments_lexer": "ipython3",
   "version": "3.7.13"
  }
 },
 "nbformat": 4,
 "nbformat_minor": 5
}
