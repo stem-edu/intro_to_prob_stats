{
 "cells": [
  {
   "cell_type": "code",
   "execution_count": 2,
   "id": "f99025ed-8613-49cb-b91e-19144ee03683",
   "metadata": {},
   "outputs": [],
   "source": [
    "import numpy as np\n",
    "import matplotlib.pyplot as plt\n",
    "\n",
    "from numpy.random import choice"
   ]
  },
  {
   "cell_type": "markdown",
   "id": "6ba313c4-3b75-4fd7-a07d-1e01d107fd6e",
   "metadata": {},
   "source": [
    "## Bootstrapping and Central Limit Theorem"
   ]
  },
  {
   "cell_type": "markdown",
   "id": "08160e16-7a8b-44cf-b2f1-d1669b767262",
   "metadata": {},
   "source": [
    "Bootstrapping a distribution allows one to continuously sample a distribution to calculate mean and standard devation. By plotting the histogram or distribution, one can estimate the mean and standard deviation of the underlying distribution.\n",
    "\n",
    "This is a direct application of the the **Central Limit Theorem**.\n",
    "\n",
    "We first draw 20 data points from a uniform distribution $X \\sim U[0, 5]$, then we sample 20 datapoints with replacement from the original sample $s$"
   ]
  },
  {
   "cell_type": "code",
   "execution_count": 3,
   "id": "d812e79d-f041-4481-a15e-2e40596e5ed3",
   "metadata": {},
   "outputs": [],
   "source": [
    "s = np.random.uniform(0, 5, 20)"
   ]
  },
  {
   "cell_type": "code",
   "execution_count": 4,
   "id": "90acef73-1650-4d50-8776-883280406c3e",
   "metadata": {},
   "outputs": [],
   "source": [
    "n = 10000\n",
    "mean = np.zeros(n)\n",
    "std = np.zeros(n)\n",
    "\n",
    "for i in range(n):\n",
    "    sample = choice(s, size=20, replace=True)\n",
    "    mean[i] = sample.mean()\n",
    "    std[i] = sample.std()"
   ]
  },
  {
   "cell_type": "code",
   "execution_count": 22,
   "id": "206d1f5a-edca-4fbe-8226-155cbd7954d2",
   "metadata": {},
   "outputs": [
    {
     "data": {
      "text/plain": [
       "(array([  1.,   2.,   0.,   2.,   2.,   2.,   3.,   2.,   3.,   6.,  11.,\n",
       "         11.,  12.,  16.,  10.,  14.,  18.,  23.,  15.,  36.,  36.,  40.,\n",
       "         51.,  47.,  57.,  66.,  76.,  77., 105., 106.,  98., 137., 136.,\n",
       "        161., 195., 177., 211., 200., 205., 219., 242., 242., 277., 262.,\n",
       "        295., 296., 285., 293., 276., 281., 302., 274., 245., 290., 241.,\n",
       "        265., 270., 237., 223., 210., 202., 186., 175., 167., 136., 156.,\n",
       "        129., 128., 108.,  95.,  90.,  78.,  64.,  59.,  53.,  40.,  32.,\n",
       "         37.,  33.,  20.,  17.,  20.,  15.,  16.,   9.,   9.,   3.,   6.,\n",
       "          5.,   5.,   4.,   4.,   0.,   0.,   2.,   1.,   0.,   0.,   0.,\n",
       "          1.]),\n",
       " array([1.41051425, 1.4333805 , 1.45624674, 1.47911298, 1.50197922,\n",
       "        1.52484546, 1.5477117 , 1.57057795, 1.59344419, 1.61631043,\n",
       "        1.63917667, 1.66204291, 1.68490915, 1.7077754 , 1.73064164,\n",
       "        1.75350788, 1.77637412, 1.79924036, 1.8221066 , 1.84497285,\n",
       "        1.86783909, 1.89070533, 1.91357157, 1.93643781, 1.95930405,\n",
       "        1.98217029, 2.00503654, 2.02790278, 2.05076902, 2.07363526,\n",
       "        2.0965015 , 2.11936774, 2.14223399, 2.16510023, 2.18796647,\n",
       "        2.21083271, 2.23369895, 2.25656519, 2.27943144, 2.30229768,\n",
       "        2.32516392, 2.34803016, 2.3708964 , 2.39376264, 2.41662889,\n",
       "        2.43949513, 2.46236137, 2.48522761, 2.50809385, 2.53096009,\n",
       "        2.55382634, 2.57669258, 2.59955882, 2.62242506, 2.6452913 ,\n",
       "        2.66815754, 2.69102379, 2.71389003, 2.73675627, 2.75962251,\n",
       "        2.78248875, 2.80535499, 2.82822124, 2.85108748, 2.87395372,\n",
       "        2.89681996, 2.9196862 , 2.94255244, 2.96541869, 2.98828493,\n",
       "        3.01115117, 3.03401741, 3.05688365, 3.07974989, 3.10261614,\n",
       "        3.12548238, 3.14834862, 3.17121486, 3.1940811 , 3.21694734,\n",
       "        3.23981359, 3.26267983, 3.28554607, 3.30841231, 3.33127855,\n",
       "        3.35414479, 3.37701104, 3.39987728, 3.42274352, 3.44560976,\n",
       "        3.468476  , 3.49134224, 3.51420849, 3.53707473, 3.55994097,\n",
       "        3.58280721, 3.60567345, 3.62853969, 3.65140594, 3.67427218,\n",
       "        3.69713842]),\n",
       " <BarContainer object of 100 artists>)"
      ]
     },
     "execution_count": 22,
     "metadata": {},
     "output_type": "execute_result"
    },
    {
     "data": {
      "image/png": "[encoded data removed]",
      "text/plain": [
       "<Figure size 640x480 with 1 Axes>"
      ]
     },
     "metadata": {},
     "output_type": "display_data"
    }
   ],
   "source": [
    "plt.hist(mean, bins=100)"
   ]
  },
  {
   "cell_type": "markdown",
   "id": "2b431304-5d4a-446c-ba09-dd56642501bf",
   "metadata": {},
   "source": [
    "Observing this histogram, we see a familiar gaussian distribution, with mean around 2.5. But how is this possible?\n",
    "\n",
    "> Central Limit Theorem:\n",
    "If $X \\sim Dist(\\mu, \\sigma)$ (X drawn from an arbitrary distribution with unknown mean $\\mu$ and standard deviation $\\sigma$), and we draw N samples from the distribution, them the average $\\bar{X} \\sim N(\\bar{X}, \\frac{\\sigma^2}{n})$ as $n\\rightarrow \\infty$ \n",
    "\n",
    "This is very powerful, which is a factor that is used in many scientific settings (e.g. Measuring a value over and over again to determine its true value). The more data points (draws from the distribution), the better we are at estimating the mean $mu$ and standard devation $\\sigma$.\n",
    "\n",
    "To illustrate this, let's go back to the uniform distribtuion example above. Let's see if the mean and standard deviation calculated is consistent"
   ]
  },
  {
   "cell_type": "code",
   "execution_count": null,
   "id": "99ad9e7d-c3db-44c3-b5e4-fa749462fa38",
   "metadata": {},
   "outputs": [],
   "source": []
  }
 ],
 "metadata": {
  "kernelspec": {
   "display_name": "lab",
   "language": "python",
   "name": "lab"
  },
  "language_info": {
   "codemirror_mode": {
    "name": "ipython",
    "version": 3
   },
   "file_extension": ".py",
   "mimetype": "text/x-python",
   "name": "python",
   "nbconvert_exporter": "python",
   "pygments_lexer": "ipython3",
   "version": "3.7.13"
  }
 },
 "nbformat": 4,
 "nbformat_minor": 5
}
