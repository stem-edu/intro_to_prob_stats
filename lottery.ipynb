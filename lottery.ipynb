{
 "cells": [
  {
   "cell_type": "markdown",
   "id": "3822616b-9828-4702-b15a-927ba633c743",
   "metadata": {},
   "source": [
    "## Application of combinatorics: Lottery"
   ]
  },
  {
   "cell_type": "code",
   "execution_count": 7,
   "id": "2afd26cf-21b9-41c9-a8fa-4b1ba5b11715",
   "metadata": {},
   "outputs": [],
   "source": [
    "from scipy.special import binom"
   ]
  },
  {
   "cell_type": "markdown",
   "id": "05594916-78f2-4982-904c-cbc2c7159930",
   "metadata": {},
   "source": [
    "### Powerball\n",
    "\n",
    "The rules for powerball are simple, let's take a close look at them:\n",
    "- Choose 5 numbers from 1 to 69 inclusive, without replacement\n",
    "- Choose 1 number from 1 to 26\n",
    "\n",
    "In order to win the jackpot, one must have a ticket with all 5 numbers + powerball matching the winning draw (order does not matter).\n",
    "\n",
    "What would be the probability of winning?\n",
    "\n",
    "Since numbers cannot repeat, the total number of outcomes (order doesn't matter) is:\n",
    "$$\\binom{69}{5} \\cdot \\binom{26}{1}$$\n",
    "\n",
    "There is only 1 winning outcome for the jackpot so the probability of winning is 1 in:"
   ]
  },
  {
   "cell_type": "code",
   "execution_count": 6,
   "id": "55e745ae-e34c-47ff-bba1-fd4937586e60",
   "metadata": {},
   "outputs": [
    {
     "data": {
      "text/plain": [
       "292201338.0"
      ]
     },
     "execution_count": 6,
     "metadata": {},
     "output_type": "execute_result"
    }
   ],
   "source": [
    "binom(69, 5) * binom(26, 1)"
   ]
  },
  {
   "cell_type": "markdown",
   "id": "d007ef73-5ce8-4d57-971e-1b9525478ba3",
   "metadata": {},
   "source": [
    "For just matching the 5 numbers without the powerball:\n",
    "\n",
    "we have 25 new winning combinations so the probability of winning is 1 in:"
   ]
  },
  {
   "cell_type": "code",
   "execution_count": 10,
   "id": "e311d8c9-e26d-426c-afee-d52faace4a1a",
   "metadata": {},
   "outputs": [
    {
     "data": {
      "text/plain": [
       "11688053.52"
      ]
     },
     "execution_count": 10,
     "metadata": {},
     "output_type": "execute_result"
    }
   ],
   "source": [
    "binom(69, 5) * binom(26, 1) / 25"
   ]
  },
  {
   "cell_type": "markdown",
   "id": "9d5342b2-6334-4aea-a4ea-33e5fe1193e8",
   "metadata": {},
   "source": [
    "The total number of ways of matching 4 numbers plus 1 powerball is:\n",
    "$$\\binom{5}{4} \\cdot \\binom{64}{1} \\cdot 1$$\n",
    "\n",
    "5 winning numbers are drawn, we choose 4 out of the 5, there are 64 remaining non-winning numbers, we choose 1 from that, and there's only 1 way of choosing a winning powerball, therfore the probability of winning is 1 in:"
   ]
  },
  {
   "cell_type": "code",
   "execution_count": 14,
   "id": "b77f32f7-0610-4048-a70e-9814eb885348",
   "metadata": {},
   "outputs": [
    {
     "data": {
      "text/plain": [
       "913129.18125"
      ]
     },
     "execution_count": 14,
     "metadata": {},
     "output_type": "execute_result"
    }
   ],
   "source": [
    "binom(69, 5) * binom(26, 1)  / (binom(5, 4) * binom(64, 1) * 1)"
   ]
  },
  {
   "cell_type": "markdown",
   "id": "6ca7f50b-9f29-4223-bd03-a894d668aef2",
   "metadata": {},
   "source": [
    "To match 4 numbers only, we multiply the previous answer by 25, and the probability of winning is 1 in:"
   ]
  },
  {
   "cell_type": "code",
   "execution_count": 15,
   "id": "ea4276bd-e073-462b-80b1-51ba80cb1e4b",
   "metadata": {},
   "outputs": [
    {
     "data": {
      "text/plain": [
       "36525.16725"
      ]
     },
     "execution_count": 15,
     "metadata": {},
     "output_type": "execute_result"
    }
   ],
   "source": [
    "binom(69, 5) * binom(26, 1)  / (binom(5, 4) * binom(64, 1) * 25)"
   ]
  },
  {
   "cell_type": "markdown",
   "id": "493ee7be-2b30-4682-a9d1-227c4af503f8",
   "metadata": {},
   "source": [
    "### Pick 10"
   ]
  },
  {
   "cell_type": "markdown",
   "id": "43195f87-913b-45b2-a81e-f118d44a1e26",
   "metadata": {},
   "source": [
    "Since Mega Millions and a bunch of other draw games are similar, the method of analysis are identical and will not be covered. \n",
    "\n",
    "Let's look at the rules of Pick 10:\n",
    "- A player chooses 10 numbers from 1 to 80 inclusive (without replacement)\n",
    "- 20 winning numbers will be drawn \n",
    "- a player wins the jackpot if the ticket contains any 10 of the 20 numbers drawn\n",
    "\n",
    "The total number of tickets possible are $$\\binom{80}{10}$$\n",
    "The total number of winning tickets are $$\\binom{20}{10}$$\n",
    "\n",
    "Hence, the probability of winning is 1 in:"
   ]
  },
  {
   "cell_type": "code",
   "execution_count": 19,
   "id": "2b21b13c-7508-4b5d-bf4e-32d90d049025",
   "metadata": {},
   "outputs": [
    {
     "data": {
      "text/plain": [
       "8911711.176470589"
      ]
     },
     "execution_count": 19,
     "metadata": {},
     "output_type": "execute_result"
    }
   ],
   "source": [
    "binom(80, 10) / binom(20, 10)"
   ]
  },
  {
   "cell_type": "markdown",
   "id": "1ba85205-bdf1-44a4-850f-523f917e94f4",
   "metadata": {},
   "source": [
    "The 2nd place is to match 9 numbers of the 20 winning numbers drawn.\n",
    "\n",
    "The total number of outcomes that win the 2nd place is:\n",
    "\n",
    "$$\\binom{20}{9} \\cdot \\binom{60}{1}$$\n",
    "\n",
    "Therefore, the probability of winning 2nd place is 1 in:"
   ]
  },
  {
   "cell_type": "code",
   "execution_count": 20,
   "id": "7e1be057-4f31-4dcc-b606-680c5bdd4b00",
   "metadata": {},
   "outputs": [
    {
     "data": {
      "text/plain": [
       "163381.37156862745"
      ]
     },
     "execution_count": 20,
     "metadata": {},
     "output_type": "execute_result"
    }
   ],
   "source": [
    "binom(80, 10) / (binom(20, 9) * 60)"
   ]
  },
  {
   "cell_type": "markdown",
   "id": "5c812a64-f7fb-440e-a4e8-1265445177af",
   "metadata": {},
   "source": []
  }
 ],
 "metadata": {
  "kernelspec": {
   "display_name": "lab",
   "language": "python",
   "name": "lab"
  },
  "language_info": {
   "codemirror_mode": {
    "name": "ipython",
    "version": 3
   },
   "file_extension": ".py",
   "mimetype": "text/x-python",
   "name": "python",
   "nbconvert_exporter": "python",
   "pygments_lexer": "ipython3",
   "version": "3.7.13"
  }
 },
 "nbformat": 4,
 "nbformat_minor": 5
}
